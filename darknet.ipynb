{
 "cells": [
  {
   "cell_type": "code",
   "execution_count": 78,
   "metadata": {},
   "outputs": [],
   "source": [
    "%matplotlib inline\n",
    "%reload_ext autoreload\n",
    "%autoreload 2\n",
    "\n",
    "import sys\n",
    "sys.path.append ('../../')"
   ]
  },
  {
   "cell_type": "code",
   "execution_count": 79,
   "metadata": {},
   "outputs": [],
   "source": [
    "from fastai.conv_learner import *"
   ]
  },
  {
   "cell_type": "code",
   "execution_count": 80,
   "metadata": {},
   "outputs": [],
   "source": [
    "path = Path(\"../../storage/cifar10\")\n",
    "os.makedirs(path, exist_ok=True)\n",
    "torch.cuda.set_device(0)"
   ]
  },
  {
   "cell_type": "code",
   "execution_count": 81,
   "metadata": {},
   "outputs": [],
   "source": [
    "bs = 256\n",
    "sz = 32"
   ]
  },
  {
   "cell_type": "code",
   "execution_count": 93,
   "metadata": {},
   "outputs": [],
   "source": [
    "train_dataset = torchvision.datasets.ImageFolder(root=path,\n",
    "    transform=torchvision.transforms.ToTensor()\n",
    ")\n",
    "\n",
    "train_loader = torch.utils.data.DataLoader(\n",
    "    train_dataset,\n",
    "    batch_size=60000\n",
    ")\n",
    "\n",
    "train = next(iter(train_loader))[0]\n",
    "mean = np.array(np.mean(train.numpy(), axis=(0, 2, 3)))\n",
    "std = np.array(np.std(train.numpy(), axis=(0, 2, 3)))"
   ]
  },
  {
   "cell_type": "code",
   "execution_count": 82,
   "metadata": {},
   "outputs": [
    {
     "name": "stdout",
     "output_type": "stream",
     "text": [
      "[0.24697 0.24339 0.26159]\n"
     ]
    }
   ],
   "source": [
    "print(std)"
   ]
  },
  {
   "cell_type": "code",
   "execution_count": 94,
   "metadata": {},
   "outputs": [],
   "source": [
    "tfms = tfms_from_stats((mean, std), sz, aug_tfms=[RandomFlip()], pad=sz//8)\n",
    "data = ImageClassifierData.from_paths(path, val_name='test', tfms=tfms, bs=bs)"
   ]
  },
  {
   "cell_type": "code",
   "execution_count": 118,
   "metadata": {},
   "outputs": [],
   "source": [
    "def conv_layer(ch_in, ch_out, ks=3, stride=1):\n",
    "    return nn.Sequential(\n",
    "        nn.Conv2d(ch_in, ch_out, kernel_size=ks, bias=False, stride=stride, padding=ks//2),\n",
    "        nn.BatchNorm2d(ch_out, momentum=0.01),\n",
    "        nn.LeakyReLU(0.1)\n",
    "    )\n",
    "\n",
    "class ResLayer(nn.Module):\n",
    "    def __init__(self, ch_in):\n",
    "        super().__init__()\n",
    "        self.res_layer = nn.Sequential(\n",
    "            conv_layer(ch_in, ch_in // 2, ks=1),\n",
    "            conv_layer(ch_in // 2, ch_in, ks=3)\n",
    "        )\n",
    "    \n",
    "    def forward(self, x): return x.add_(self.res_layer(x))\n",
    "\n",
    "class Darknet(nn.Module):\n",
    "    def group_layer(self,ch_in, n_blocks, stride=1):\n",
    "        return [conv_layer(ch_in, ch_in*2, stride=stride) \n",
    "               ] + [(ResLayer(ch_in*2)) for i in range(n_blocks)]\n",
    "    \n",
    "    def __init__(self, n_blocks, n_classes, start_filters=32):\n",
    "        super().__init__()\n",
    "        cf = start_filters # Current no of filters\n",
    "        layers = [conv_layer(3, cf)]\n",
    "        for idx, n in enumerate(n_blocks):\n",
    "            layers += self.group_layer(cf, n, stride=2-(idx==1))\n",
    "            cf *= 2        \n",
    "        layers += [nn.AdaptiveAvgPool2d(1), Flatten(), nn.Linear(cf, n_classes)]o\n",
    "        self.layers = nn.Sequential(*layers)\n",
    "        \n",
    "    \n",
    "    def forward(self, x): return self.layers(x)"
   ]
  },
  {
   "cell_type": "code",
   "execution_count": 119,
   "metadata": {},
   "outputs": [],
   "source": [
    "model = Darknet([1, 2, 4, 6, 3], n_classes=10, start_filters=32)"
   ]
  },
  {
   "cell_type": "code",
   "execution_count": 120,
   "metadata": {},
   "outputs": [],
   "source": [
    "lr = 1.3\n",
    "learn = ConvLearner.from_model_data(model, data)\n",
    "learn.crit = nn.CrossEntropyLoss()\n",
    "learn.metrics = [accuracy]\n",
    "weight_decay =1e-4"
   ]
  },
  {
   "cell_type": "code",
   "execution_count": 121,
   "metadata": {},
   "outputs": [
    {
     "data": {
      "application/vnd.jupyter.widget-view+json": {
       "model_id": "8e81f61a5f1b43e5a535bb0399f65a0c",
       "version_major": 2,
       "version_minor": 0
      },
      "text/plain": [
       "HBox(children=(IntProgress(value=0, description='Epoch', max=2), HTML(value='')))"
      ]
     },
     "metadata": {},
     "output_type": "display_data"
    },
    {
     "name": "stdout",
     "output_type": "stream",
     "text": [
      "epoch      trn_loss   val_loss   accuracy   \n",
      "    0      2.450597   2.759572   0.1       \n",
      "    1      1.92561    2.046956   0.1999    \n",
      "CPU times: user 9min 1s, sys: 7min 16s, total: 16min 17s\n",
      "Wall time: 15min 40s\n"
     ]
    }
   ],
   "source": [
    "#learn.load(\"dark\")\n",
    "%time learn.fit(lr, 1, wds=weight_decay, cycle_len=2, use_clr_beta=(20, 20, 0.95, 0.85))\n",
    "learn.save(\"dark\")"
   ]
  },
  {
   "cell_type": "code",
   "execution_count": 122,
   "metadata": {},
   "outputs": [
    {
     "data": {
      "application/vnd.jupyter.widget-view+json": {
       "model_id": "868c3b147b784bbdb2ef2705d3eec21b",
       "version_major": 2,
       "version_minor": 0
      },
      "text/plain": [
       "HBox(children=(IntProgress(value=0, description='Epoch', max=10), HTML(value='')))"
      ]
     },
     "metadata": {},
     "output_type": "display_data"
    },
    {
     "name": "stdout",
     "output_type": "stream",
     "text": [
      "epoch      trn_loss   val_loss   accuracy   \n",
      "    0      1.837295   2.020283   0.2396    \n",
      "    1      1.73976    1.790392   0.3185    \n",
      "    2      1.573827   1.774054   0.3276    \n",
      "    3      1.422546   1.739194   0.3353    \n",
      "    4      1.224477   1.647923   0.4596    \n",
      "    5      1.073003   1.381992   0.5149    \n",
      "    6      0.929145   1.46368    0.4994    \n",
      "    7      0.769597   0.943564   0.6712    \n",
      "    8      0.660627   0.750242   0.7363    \n",
      "    9      0.596186   0.599294   0.791     \n",
      "CPU times: user 39min 10s, sys: 31min 36s, total: 1h 10min 46s\n",
      "Wall time: 1h 6min 23s\n"
     ]
    },
    {
     "data": {
      "text/plain": [
       "[array([0.59929]), 0.791]"
      ]
     },
     "execution_count": 122,
     "metadata": {},
     "output_type": "execute_result"
    }
   ],
   "source": [
    "%time learn.fit(lr, 1, wds=weight_decay, cycle_len=10, use_clr_beta=(20, 20, 0.95, 0.85))"
   ]
  },
  {
   "cell_type": "code",
   "execution_count": 125,
   "metadata": {},
   "outputs": [
    {
     "data": {
      "application/vnd.jupyter.widget-view+json": {
       "model_id": "0f437d3dfecf42f583d585fddaa44bf0",
       "version_major": 2,
       "version_minor": 0
      },
      "text/plain": [
       "HBox(children=(IntProgress(value=0, description='Epoch', max=1), HTML(value='')))"
      ]
     },
     "metadata": {},
     "output_type": "display_data"
    },
    {
     "name": "stdout",
     "output_type": "stream",
     "text": [
      " 99%|█████████▉| 195/196 [06:45<00:02,  2.08s/it, loss=5.52]"
     ]
    }
   ],
   "source": [
    "learn.lr_find()"
   ]
  },
  {
   "cell_type": "code",
   "execution_count": 126,
   "metadata": {},
   "outputs": [
    {
     "data": {
      "image/png": "[encoded data removed]",
      "text/plain": [
       "<Figure size 432x288 with 1 Axes>"
      ]
     },
     "metadata": {},
     "output_type": "display_data"
    }
   ],
   "source": [
    "learn.sched.plot(0)"
   ]
  },
  {
   "cell_type": "code",
   "execution_count": 127,
   "metadata": {},
   "outputs": [
    {
     "data": {
      "application/vnd.jupyter.widget-view+json": {
       "model_id": "464852c0cfe4492381d0f22066156b63",
       "version_major": 2,
       "version_minor": 0
      },
      "text/plain": [
       "HBox(children=(IntProgress(value=0, description='Epoch', max=10), HTML(value='')))"
      ]
     },
     "metadata": {},
     "output_type": "display_data"
    },
    {
     "name": "stdout",
     "output_type": "stream",
     "text": [
      "epoch      trn_loss   val_loss   accuracy   \n",
      "    0      0.499986   0.52831    0.8167    \n",
      "    1      0.482231   0.56194    0.8065    \n",
      "    2      0.473561   0.518422   0.8203    \n",
      "    4      0.451952   0.517726   0.8227    \n",
      "    5      0.438909   0.509657   0.824     \n",
      "    6      0.412962   0.472713   0.8345    \n",
      "    7      0.38984    0.508526   0.824     \n",
      "    8      0.366794   0.448364   0.8445    \n",
      "    9      0.354355   0.434575   0.8511    \n",
      "CPU times: user 39min 15s, sys: 31min 29s, total: 1h 10min 44s\n",
      "Wall time: 1h 6min 21s\n"
     ]
    },
    {
     "data": {
      "text/plain": [
       "[array([0.43458]), 0.8511]"
      ]
     },
     "execution_count": 127,
     "metadata": {},
     "output_type": "execute_result"
    }
   ],
   "source": [
    "%time learn.fit(5e-2, 1, wds=weight_decay, cycle_len=10, use_clr_beta=(10, 15, 0.95, 0.85))"
   ]
  },
  {
   "cell_type": "code",
   "execution_count": null,
   "metadata": {},
   "outputs": [],
   "source": []
  }
 ],
 "metadata": {
  "kernelspec": {
   "display_name": "Python 3",
   "language": "python",
   "name": "python3"
  },
  "language_info": {
   "codemirror_mode": {
    "name": "ipython",
    "version": 3
   },
   "file_extension": ".py",
   "mimetype": "text/x-python",
   "name": "python",
   "nbconvert_exporter": "python",
   "pygments_lexer": "ipython3",
   "version": "3.6.5"
  }
 },
 "nbformat": 4,
 "nbformat_minor": 2
}

